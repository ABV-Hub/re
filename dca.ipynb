{
 "cells": [
  {
   "cell_type": "markdown",
   "metadata": {},
   "source": [
    "### Decline Curve Analisys tool"
   ]
  },
  {
   "cell_type": "code",
   "execution_count": null,
   "metadata": {
    "scrolled": false
   },
   "outputs": [],
   "source": [
    "import numpy as np\n",
    "import pandas as pd\n",
    "import datetime\n",
    "from datetime import datetime, date\n",
    "import matplotlib.pyplot as plt\n",
    "import math\n",
    "%matplotlib inline\n",
    "%config InlineBackend.figure_format = 'svg'\n",
    "\n",
    "import pylab\n",
    "from pylab import rcParams\n",
    "\n",
    "#pd.set_option('display.notebook_repr_html', False)\n",
    "#pd.set_option('display.max_columns', 8)\n",
    "#pd.set_option('display.max_rows', 10)\n",
    "#pd.set_option('display.width', 90)\n",
    "\n",
    "data_path = '../data/Prod data.xlsx'\n",
    "fc_path = '../data/fc.xlsx'\n",
    "#df = pd.read_excel(data_path, index_col=1)  # в качестве индекса используется столбец скважин\n",
    "df = pd.read_excel(data_path)  # в качестве индекса используется столбец скважин"
   ]
  },
  {
   "cell_type": "markdown",
   "metadata": {},
   "source": [
    "### Get last observed rate\n",
    "for well `well_name` on date `last_hist_date`"
   ]
  },
  {
   "cell_type": "code",
   "execution_count": null,
   "metadata": {},
   "outputs": [],
   "source": [
    "well_name = 'well-1'\n",
    "last_hist_date = '2020-03-01'\n",
    "\n",
    "# Получение посл-го истор-го дебита = месячная добыча / кол-во часов работы * 24 = среднесуточный дебит\n",
    "last_hist_rate = df['Oil production (actual), t'][(df['Well'] == well_name) & (df['Date'] == last_hist_date)] \\\n",
    "/ df['Working hours'][(df['Well'] == well_name) & (df['Date'] == last_hist_date)] * 24\n",
    "\n",
    "# преобразование объекта series в число\n",
    "last_hist_rate = last_hist_rate.item()\n",
    "print(f'last_hist_rate = {last_hist_rate}')"
   ]
  },
  {
   "cell_type": "markdown",
   "metadata": {},
   "source": [
    "### DCA plot (Arps) in log scale. Defining parameters"
   ]
  },
  {
   "cell_type": "code",
   "execution_count": null,
   "metadata": {
    "scrolled": false
   },
   "outputs": [],
   "source": [
    "qi =  55 #last_hist_rate  # initial rate = last historical\n",
    "d = 0.03                  # Arps factor\n",
    "q_elim = 2                # economical limit\n",
    "s_date_fc = '2016-03-01'  # forecast start date\n",
    "# =================================================================================\n",
    "q_fc = []\n",
    "month_no = 1  # start count from first month\n",
    "#q = qi        \n",
    "while qi * math.exp(-month_no * d) > q_elim:\n",
    "    q = qi * math.exp(-month_no * d)\n",
    "    q_fc.append(q)\n",
    "    month_no += 1\n",
    "# q_fc # forecast rate array \n",
    "\n",
    "dates_fc = pd.date_range(start = s_date_fc, periods=len(q_fc), freq='MS') # array date generating for forecast\n",
    "q_fc_series = pd.Series(q_fc, index=dates_fc) # объединение прогнозных дебитов и массива дат как индекса в объекте Series\n",
    "rcParams['figure.figsize'] = 12, 6\n",
    "data1 = df['Oil production (actual), t'].where(df['Well'] == well_name) / df['Working hours'] * 24\n",
    "plt.plot(df['Date'], data1, color=\"brown\", label=f'{well_name} oil production, t/d')\n",
    "# кривая прогноза\n",
    "q_fc_series.plot(color=\"red\", label=f'Arps line. Q initial = {qi}. d = {d}')\n",
    "#q_fc2 = q_fc_series + 2\n",
    "#q_fc2.plot(color=\"red\")\n",
    "plt.legend()\n",
    "plt.yscale(value=\"log\")\n",
    "plt.axis(['2015-04-01', '2025-07-01', 1, 350])  # plt.xlim(2010*365, 2024*365)  # нумерация в днях\n",
    "plt.title(well_name)\n",
    "plt.show()"
   ]
  },
  {
   "cell_type": "markdown",
   "metadata": {},
   "source": [
    "### Визуализация прогнозных данных"
   ]
  },
  {
   "cell_type": "code",
   "execution_count": null,
   "metadata": {
    "scrolled": false
   },
   "outputs": [],
   "source": [
    "pd.DataFrame(q_fc_series.round(1), dates_fc)"
   ]
  },
  {
   "cell_type": "markdown",
   "metadata": {},
   "source": [
    "### Отрисовка исторических данных с прогнозом"
   ]
  },
  {
   "cell_type": "code",
   "execution_count": null,
   "metadata": {
    "scrolled": false
   },
   "outputs": [],
   "source": [
    "#t = df['Date']  # well_name = 'Plat-2'\n",
    "data1 = df['Oil production (actual), t'].where(df['Well'] == well_name) / df['Working hours'] * 24\n",
    "data2 = df['WCT, %'].where(df['Well'] == well_name)\n",
    "data3 = df['Gas production, M m3'].where(df['Well'] == well_name) / df['Working hours'] * 24\n",
    "\n",
    "fig, ax1 = plt.subplots(figsize = (10, 5))\n",
    "\n",
    "color = 'tab:brown'\n",
    "#ax1.set_xlabel('Date')\n",
    "ax1.set_ylabel('Daily oil production (t/d)', color=color)\n",
    "ax1.plot(df['Date'], data1, color=color)\n",
    "ax1.tick_params(axis='y', labelcolor=color)\n",
    "\n",
    "# кривая прогноза\n",
    "q_fc_series.plot(color=\"red\")\n",
    "\n",
    "ax2 = ax1.twinx()  # instantiate a second axes that shares the same x-axis\n",
    "\n",
    "color = 'tab:blue'\n",
    "ax2.set_ylabel('Watercut, %', color=color)  # we already handled the x-label with ax1\n",
    "ax2.plot(df['Date'], data2, color=color)\n",
    "ax2.tick_params(axis='y', labelcolor=color)\n",
    "ax2.set_ylim(0,100)                          # limits for WCT\n",
    "\n",
    "\n",
    "legend = plt.legend(loc='upper right')\n",
    "plt.setp(legend.get_texts(), color=\"black\")\n",
    "#ax1.legend()\n",
    "#ax2.legend()\n",
    "plt.title(well_name)\n",
    "fig.tight_layout()  # otherwise the right y-label is slightly clipped\n",
    "#plt.legend()\n",
    "plt.show()"
   ]
  },
  {
   "cell_type": "markdown",
   "metadata": {},
   "source": [
    "### Визуализация данных stacked plot "
   ]
  },
  {
   "cell_type": "code",
   "execution_count": null,
   "metadata": {
    "scrolled": false
   },
   "outputs": [],
   "source": [
    "x = df['Date']\n",
    "y1 = df['Oil production (actual), t'].where(df['Well'] == well_name) / df['Working hours'] * 24\n",
    "y2 = df['Water production, t'].where(df['Well'] == well_name) / df['Working hours'] * 24\n",
    "#y3 = ...\n",
    "\n",
    "colors = ['#C9C19C', '#A9DDFF']\n",
    "plt.stackplot(x, y1, y2, labels=['Oil production (hist), t/d','Water production (hist), t/d'], colors=colors)\n",
    "plt.plot(dates_fc, q_fc_series, color=\"red\")\n",
    "plt.legend(loc='upper right')\n",
    "plt.title(well_name)\n",
    "#plt.axis(['2015-04-01', '2025-07-01', 0,100 ])\n",
    "plt.xlim(2015*365, 2024*365)  # нумерация в днях"
   ]
  }
 ],
 "metadata": {
  "kernelspec": {
   "display_name": "Python 3",
   "language": "python",
   "name": "python3"
  },
  "language_info": {
   "codemirror_mode": {
    "name": "ipython",
    "version": 3
   },
   "file_extension": ".py",
   "mimetype": "text/x-python",
   "name": "python",
   "nbconvert_exporter": "python",
   "pygments_lexer": "ipython3",
   "version": "3.7.6"
  },
  "toc": {
   "base_numbering": 1,
   "nav_menu": {},
   "number_sections": true,
   "sideBar": true,
   "skip_h1_title": false,
   "title_cell": "Table of Contents",
   "title_sidebar": "Contents",
   "toc_cell": false,
   "toc_position": {},
   "toc_section_display": true,
   "toc_window_display": false
  },
  "varInspector": {
   "cols": {
    "lenName": 16,
    "lenType": 16,
    "lenVar": 40
   },
   "kernels_config": {
    "python": {
     "delete_cmd_postfix": "",
     "delete_cmd_prefix": "del ",
     "library": "var_list.py",
     "varRefreshCmd": "print(var_dic_list())"
    },
    "r": {
     "delete_cmd_postfix": ") ",
     "delete_cmd_prefix": "rm(",
     "library": "var_list.r",
     "varRefreshCmd": "cat(var_dic_list()) "
    }
   },
   "types_to_exclude": [
    "module",
    "function",
    "builtin_function_or_method",
    "instance",
    "_Feature"
   ],
   "window_display": false
  }
 },
 "nbformat": 4,
 "nbformat_minor": 4
}
